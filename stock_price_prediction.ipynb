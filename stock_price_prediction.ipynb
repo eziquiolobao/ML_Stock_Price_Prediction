{
 "cells": [
  {
   "cell_type": "markdown",
   "id": "90a4f2d4",
   "metadata": {},
   "source": [
    "# Stock Price Prediction with Bidirectional LSTM"
   ]
  },
  {
   "cell_type": "markdown",
   "id": "4c3b1b9a",
   "metadata": {},
   "source": [
    "## 1. Import Libraries and Set Parameters"
   ]
  },
  {
   "cell_type": "code",
   "execution_count": null,
   "id": "0c7bf05e",
   "metadata": {},
   "outputs": [],
   "source": [
    "import numpy as np\n",
    "import pandas as pd\n",
    "import matplotlib.pyplot as plt\n",
    "import yfinance as yf\n",
    "from sklearn.preprocessing import MinMaxScaler\n",
    "from sklearn.metrics import mean_squared_error, mean_absolute_error, r2_score\n",
    "from tensorflow.keras.models import Sequential\n",
    "from tensorflow.keras.layers import (\n",
    "    LSTM,\n",
    "    Dropout,\n",
    "    Dense,\n",
    "    Bidirectional,\n",
    "    BatchNormalization,\n",
    ")\n",
    "from tensorflow.keras.callbacks import EarlyStopping\n",
    "import tensorflow as tf\n",
    "\n",
    "# User-configurable parameters\n",
    "TICKER = \"PLTR\"  # Change this ticker symbol to download data for a different stock\n",
    "LOOKBACK = 60     # Number of past days to look back (try 30, 90, 120, etc.)\n",
    "EPOCHS = 100      # Training epochs (can increase to 200 for more training)\n",
    "BATCH_SIZE = 32   # Batch size for training\n",
    "VAL_SPLIT = 0.1   # Fraction of training data to use for validation\n",
    "\n",
    "# Set random seeds for reproducibility\n",
    "np.random.seed(42)\n",
    "tf.random.set_seed(42)"
   ]
  },
  {
   "cell_type": "markdown",
   "id": "422ec00c",
   "metadata": {},
   "source": [
    "## 2. Download Stock Data"
   ]
  },
  {
   "cell_type": "code",
   "execution_count": null,
   "id": "e713ceab",
   "metadata": {},
   "outputs": [],
   "source": [
    "# Fetch historical stock data for the last 5 years using yfinance\n",
    "df = yf.download(TICKER, period=\"5y\")\n",
    "df.to_csv(f\"{TICKER}_historical_data.csv\")\n",
    "print(f\"Saved historical data to {TICKER}_historical_data.csv\")"
   ]
  },
  {
   "cell_type": "markdown",
   "id": "98e182cb",
   "metadata": {},
   "source": [
    "## 3. Feature Engineering"
   ]
  },
  {
   "cell_type": "code",
   "execution_count": null,
   "id": "7879555c",
   "metadata": {},
   "outputs": [],
   "source": [
    "# Use relevant price columns and add technical indicators\n",
    "features = df[[\"Open\", \"High\", \"Low\", \"Close\", \"Volume\"]].copy()\n",
    "\n",
    "# Moving averages\n",
    "features[\"MA7\"] = features[\"Close\"].rolling(window=7).mean()\n",
    "features[\"MA21\"] = features[\"Close\"].rolling(window=21).mean()\n",
    "\n",
    "# Relative Strength Index (RSI)\n",
    "delta = features[\"Close\"].diff()\n",
    "gain = delta.clip(lower=0)\n",
    "loss = -delta.clip(upper=0)\n",
    "avg_gain = gain.rolling(window=14).mean()\n",
    "avg_loss = loss.rolling(window=14).mean()\n",
    "rs = avg_gain / avg_loss\n",
    "features[\"RSI\"] = 100 - (100 / (1 + rs))\n",
    "\n",
    "# Drop rows with NaN values created by indicators\n",
    "features.dropna(inplace=True)"
   ]
  },
  {
   "cell_type": "markdown",
   "id": "afc4f940",
   "metadata": {},
   "source": [
    "## 4. Visualize Historical Closing Prices"
   ]
  },
  {
   "cell_type": "code",
   "execution_count": null,
   "id": "62e547d8",
   "metadata": {},
   "outputs": [],
   "source": [
    "plt.figure(figsize=(14, 5))\n",
    "plt.plot(features.index, features[\"Close\"], label=\"Close Price\")\n",
    "plt.title(f\"Historical Closing Prices for {TICKER}\")\n",
    "plt.xlabel(\"Date\")\n",
    "plt.ylabel(\"Close Price USD ($)\")\n",
    "plt.legend()\n",
    "plt.show()"
   ]
  },
  {
   "cell_type": "markdown",
   "id": "3146c4c2",
   "metadata": {},
   "source": [
    "## 5. Data Preprocessing"
   ]
  },
  {
   "cell_type": "code",
   "execution_count": null,
   "id": "5f0212d7",
   "metadata": {},
   "outputs": [],
   "source": [
    "# Determine training data length\n",
    "training_data_len = int(np.ceil(len(features) * 0.8))\n",
    "\n",
    "# Split the data into training and testing datasets\n",
    "train_features = features.iloc[:training_data_len]\n",
    "test_features = features.iloc[training_data_len - LOOKBACK:]\n",
    "\n",
    "# Fit the scaler on the entire dataset to avoid distribution shift issues\n",
    "feature_scaler = MinMaxScaler()\n",
    "feature_scaler.fit(features)\n",
    "train_scaled = feature_scaler.transform(train_features)\n",
    "test_scaled = feature_scaler.transform(test_features)\n",
    "\n",
    "# Separate scaler for the 'Close' price for inverse transformation\n",
    "price_scaler = MinMaxScaler()\n",
    "price_scaler.fit(train_features[[\"Close\"]])\n",
    "\n",
    "# Function to create sequences of data\n",
    "def create_dataset(dataset, lookback, target_index):\n",
    "    X, y = [], []\n",
    "    for i in range(lookback, len(dataset)):\n",
    "        X.append(dataset[i - lookback : i])\n",
    "        y.append(dataset[i, target_index])\n",
    "    return np.array(X), np.array(y)\n",
    "\n",
    "# Generate sequences for training and testing\n",
    "close_idx = features.columns.get_loc(\"Close\")\n",
    "X_train, y_train = create_dataset(train_scaled, LOOKBACK, close_idx)\n",
    "X_test, y_test = create_dataset(test_scaled, LOOKBACK, close_idx)\n",
    "\n",
    "# Number of features for model input\n",
    "num_features = X_train.shape[2]"
   ]
  },
  {
   "cell_type": "markdown",
   "id": "caeeaf7a",
   "metadata": {},
   "source": [
    "## 6. Build the Bidirectional LSTM Model"
   ]
  },
  {
   "cell_type": "code",
   "execution_count": null,
   "id": "b59e07db",
   "metadata": {},
   "outputs": [],
   "source": [
    "model = Sequential([\n",
    "    Bidirectional(LSTM(128, return_sequences=True), input_shape=(LOOKBACK, num_features)),\n",
    "    BatchNormalization(),\n",
    "    Dropout(0.1),\n",
    "    Bidirectional(LSTM(64, return_sequences=True)),\n",
    "    BatchNormalization(),\n",
    "    Dropout(0.1),\n",
    "    Bidirectional(LSTM(32, return_sequences=False)),\n",
    "    Dense(25),\n",
    "    Dense(1),\n",
    "])\n",
    "\n",
    "model.compile(optimizer=\"adam\", loss=\"mean_squared_error\")"
   ]
  },
  {
   "cell_type": "markdown",
   "id": "c3f6ae48",
   "metadata": {},
   "source": [
    "## 7. Train the Model"
   ]
  },
  {
   "cell_type": "code",
   "execution_count": null,
   "id": "2beb465b",
   "metadata": {},
   "outputs": [],
   "source": [
    "early_stop = EarlyStopping(monitor=\"val_loss\", patience=10, restore_best_weights=True)\n",
    "\n",
    "history = model.fit(\n",
    "    X_train,\n",
    "    y_train,\n",
    "    batch_size=BATCH_SIZE,\n",
    "    epochs=EPOCHS,\n",
    "    validation_split=VAL_SPLIT,\n",
    "    callbacks=[early_stop],\n",
    "    verbose=1,\n",
    ")\n",
    "\n",
    "# Plot training and validation loss\n",
    "plt.figure(figsize=(10, 4))\n",
    "plt.plot(history.history['loss'], label='Training Loss')\n",
    "plt.plot(history.history['val_loss'], label='Validation Loss')\n",
    "plt.title('Model Loss During Training')\n",
    "plt.xlabel('Epoch')\n",
    "plt.ylabel('Loss')\n",
    "plt.legend()\n",
    "plt.show()"
   ]
  },
  {
   "cell_type": "markdown",
   "id": "8eaaa054",
   "metadata": {},
   "source": [
    "## 8. Make Predictions"
   ]
  },
  {
   "cell_type": "code",
   "execution_count": null,
   "id": "cca71079",
   "metadata": {},
   "outputs": [],
   "source": [
    "predictions = model.predict(X_test)\n",
    "predictions = price_scaler.inverse_transform(predictions)\n",
    "\n",
    "# Inverse transform the actual prices\n",
    "actual_prices = price_scaler.inverse_transform(y_test.reshape(-1, 1))"
   ]
  },
  {
   "cell_type": "markdown",
   "id": "d2cc0222",
   "metadata": {},
   "source": [
    "## 9. Evaluate Model Performance"
   ]
  },
  {
   "cell_type": "code",
   "execution_count": null,
   "id": "59787c47",
   "metadata": {},
   "outputs": [],
   "source": [
    "rmse = np.sqrt(mean_squared_error(actual_prices, predictions))\n",
    "mae = mean_absolute_error(actual_prices, predictions)\n",
    "r2 = r2_score(actual_prices, predictions)\n",
    "print(f\"Root Mean Squared Error (RMSE): {rmse:.2f}\")\n",
    "print(f\"Mean Absolute Error (MAE): {mae:.2f}\")\n",
    "print(f\"R² Score: {r2:.2f}\")\n",
    "\n",
    "# Naive baseline: last value prediction\n",
    "train = features[[\"Close\"]][:training_data_len]\n",
    "valid = features[[\"Close\"]][training_data_len:].copy()\n",
    "valid[\"Predictions\"] = predictions\n",
    "naive_preds = valid['Close'].shift(1).dropna().values\n",
    "naive_actuals = valid['Close'].iloc[1:].values\n",
    "naive_rmse = np.sqrt(mean_squared_error(naive_actuals, naive_preds))\n",
    "naive_mae = mean_absolute_error(naive_actuals, naive_preds)\n",
    "naive_r2 = r2_score(naive_actuals, naive_preds)\n",
    "print(\"\\nNaive Baseline (Last Value) Results:\")\n",
    "print(f\"RMSE: {naive_rmse:.2f}\")\n",
    "print(f\"MAE: {naive_mae:.2f}\")\n",
    "print(f\"R² Score: {naive_r2:.2f}\")"
   ]
  },
  {
   "cell_type": "markdown",
   "id": "70245593",
   "metadata": {},
   "source": [
    "## 10. Visualize Predictions"
   ]
  },
  {
   "cell_type": "code",
   "execution_count": null,
   "id": "a70b8d95",
   "metadata": {},
   "outputs": [],
   "source": [
    "train = features[[\"Close\"]][:training_data_len]\n",
    "valid = features[[\"Close\"]][training_data_len:].copy()\n",
    "valid[\"Predictions\"] = predictions\n",
    "\n",
    "plt.figure(figsize=(14, 5))\n",
    "plt.plot(train.index, train['Close'], label='Training Data')\n",
    "plt.plot(valid.index, valid['Close'], label='Actual Prices')\n",
    "plt.plot(valid.index, valid['Predictions'], label='Predicted Prices')\n",
    "plt.title(f\"{TICKER} Price Prediction\")\n",
    "plt.xlabel(\"Date\")\n",
    "plt.ylabel(\"Close Price USD ($)\")\n",
    "plt.legend()\n",
    "plt.show()"
   ]
  },
  {
   "cell_type": "markdown",
   "id": "16e0339a",
   "metadata": {},
   "source": [
    "## 11. Save the Model"
   ]
  },
  {
   "cell_type": "code",
   "execution_count": null,
   "id": "6b9dd0ca",
   "metadata": {},
   "outputs": [],
   "source": [
    "model.save('stock_price_model.keras')"
   ]
  }
 ],
 "metadata": {
  "kernelspec": {
   "display_name": ".venv (3.13.2)",
   "language": "python",
   "name": "python3"
  },
  "language_info": {
   "codemirror_mode": {
    "name": "ipython",
    "version": 3
   },
   "file_extension": ".py",
   "mimetype": "text/x-python",
   "name": "python",
   "nbconvert_exporter": "python",
   "pygments_lexer": "ipython3",
   "version": "3.13.2"
  }
 },
 "nbformat": 4,
 "nbformat_minor": 5
}
