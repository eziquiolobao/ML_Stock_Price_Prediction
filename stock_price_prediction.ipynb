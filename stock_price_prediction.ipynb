{
 "cells": [
  {
   "cell_type": "markdown",
   "id": "632f6fa9",
   "metadata": {},
   "source": [
    "# Stock Price Prediction with LSTM\n",
    "This notebook reproduces the script `stock_price_prediction.py` with sectioned execution."
   ]
  },
  {
   "cell_type": "markdown",
   "id": "7049ef6d",
   "metadata": {},
   "source": [
    "## 1. Import Libraries"
   ]
  },
  {
   "cell_type": "code",
   "execution_count": null,
   "id": "170e1564",
   "metadata": {},
   "outputs": [],
   "source": [
    "import numpy as np\n",
    "import pandas as pd\n",
    "import matplotlib.pyplot as plt\n",
    "import yfinance as yf\n",
    "from sklearn.preprocessing import MinMaxScaler\n",
    "from sklearn.metrics import mean_squared_error\n",
    "from tensorflow.keras.models import Sequential\n",
    "from tensorflow.keras.layers import LSTM, Dropout, Dense\n",
    "import tensorflow as tf\n",
    "\n",
    "# User-configurable parameters\n",
    "TICKER = 'PLTR'  # Change ticker as needed\n",
    "LOOKBACK = 60\n",
    "EPOCHS = 50\n",
    "BATCH_SIZE = 32\n",
    "VAL_SPLIT = 0.1\n",
    "\n",
    "# Set random seeds for reproducibility\n",
    "np.random.seed(42)\n",
    "tf.random.set_seed(42)\n",
    "print('Libraries imported and seeds set.')"
   ]
  },
  {
   "cell_type": "markdown",
   "id": "ba0f1fac",
   "metadata": {},
   "source": [
    "## 2. Download Stock Data"
   ]
  },
  {
   "cell_type": "code",
   "execution_count": null,
   "id": "635bc65c",
   "metadata": {},
   "outputs": [],
   "source": [
    "df = yf.download(TICKER, period='5y')\n",
    "close_prices = df[['Close']]\n",
    "print(f'Downloaded {df.shape[0]} rows of data for {TICKER}.')\n",
    "close_prices.head()"
   ]
  },
  {
   "cell_type": "markdown",
   "id": "2744915a",
   "metadata": {},
   "source": [
    "## 3. Data Visualization"
   ]
  },
  {
   "cell_type": "code",
   "execution_count": null,
   "id": "ab9f9396",
   "metadata": {},
   "outputs": [],
   "source": [
    "plt.figure(figsize=(14,5))\n",
    "plt.plot(close_prices.index, close_prices['Close'], label='Close Price')\n",
    "plt.title(f'Historical Closing Prices for {TICKER}')\n",
    "plt.xlabel('Date')\n",
    "plt.ylabel('Close Price USD ($)')\n",
    "plt.legend()\n",
    "plt.show()\n",
    "print('Displayed historical closing prices.')"
   ]
  },
  {
   "cell_type": "markdown",
   "id": "cad787e5",
   "metadata": {},
   "source": [
    "## 4. Data Preprocessing"
   ]
  },
  {
   "cell_type": "code",
   "execution_count": null,
   "id": "016ba25c",
   "metadata": {},
   "outputs": [],
   "source": [
    "scaler = MinMaxScaler(feature_range=(0,1))\n",
    "scaled_data = scaler.fit_transform(close_prices.values)\n",
    "training_data_len = int(np.ceil(len(scaled_data) * 0.8))\n",
    "train_data = scaled_data[:training_data_len]\n",
    "test_data = scaled_data[training_data_len-LOOKBACK:]\n",
    "\n",
    "def create_dataset(dataset, lookback):\n",
    "    X, y = [], []\n",
    "    for i in range(lookback, len(dataset)):\n",
    "        X.append(dataset[i-lookback:i,0])\n",
    "        y.append(dataset[i,0])\n",
    "    return np.array(X), np.array(y)\n",
    "\n",
    "X_train, y_train = create_dataset(train_data, LOOKBACK)\n",
    "X_test, y_test = create_dataset(test_data, LOOKBACK)\n",
    "print(f'Training sequences: {X_train.shape}, Testing sequences: {X_test.shape}')"
   ]
  },
  {
   "cell_type": "markdown",
   "id": "425b57d9",
   "metadata": {},
   "source": [
    "## 5. Reshape Data for LSTM"
   ]
  },
  {
   "cell_type": "code",
   "execution_count": null,
   "id": "02796191",
   "metadata": {},
   "outputs": [],
   "source": [
    "X_train = np.reshape(X_train, (X_train.shape[0], X_train.shape[1], 1))\n",
    "X_test = np.reshape(X_test, (X_test.shape[0], X_test.shape[1], 1))\n",
    "print(f'Reshaped X_train to {X_train.shape} and X_test to {X_test.shape}.')"
   ]
  },
  {
   "cell_type": "markdown",
   "id": "7ba41bbc",
   "metadata": {},
   "source": [
    "## 6. Build the LSTM Model"
   ]
  },
  {
   "cell_type": "code",
   "execution_count": null,
   "id": "c9391146",
   "metadata": {},
   "outputs": [],
   "source": [
    "model = Sequential([\n",
    "    LSTM(50, return_sequences=True, input_shape=(LOOKBACK,1)),\n",
    "    Dropout(0.2),\n",
    "    LSTM(50, return_sequences=False),\n",
    "    Dropout(0.2),\n",
    "    Dense(25),\n",
    "    Dense(1)\n",
    "])\n",
    "model.compile(optimizer='adam', loss='mean_squared_error')\n",
    "model.summary()"
   ]
  },
  {
   "cell_type": "markdown",
   "id": "e1142f14",
   "metadata": {},
   "source": [
    "## 7. Train the Model"
   ]
  },
  {
   "cell_type": "code",
   "execution_count": null,
   "id": "ea85d468",
   "metadata": {},
   "outputs": [],
   "source": [
    "history = model.fit(\n",
    "    X_train, y_train,\n",
    "    batch_size=BATCH_SIZE,\n",
    "    epochs=EPOCHS,\n",
    "    validation_split=VAL_SPLIT,\n",
    "    verbose=1\n",
    ")\n",
    "plt.figure(figsize=(10,4))\n",
    "plt.plot(history.history['loss'], label='Training Loss')\n",
    "plt.plot(history.history['val_loss'], label='Validation Loss')\n",
    "plt.title('Model Loss During Training')\n",
    "plt.xlabel('Epoch')\n",
    "plt.ylabel('Loss')\n",
    "plt.legend()\n",
    "plt.show()\n",
    "print('Training complete.')"
   ]
  },
  {
   "cell_type": "markdown",
   "id": "a972f002",
   "metadata": {},
   "source": [
    "## 8. Make Predictions"
   ]
  },
  {
   "cell_type": "code",
   "execution_count": null,
   "id": "667807e1",
   "metadata": {},
   "outputs": [],
   "source": [
    "predictions = model.predict(X_test)\n",
    "predictions = scaler.inverse_transform(predictions)\n",
    "actual_prices = scaler.inverse_transform(y_test.reshape(-1,1))\n",
    "print('First 5 predictions vs actuals:')\n",
    "print(np.hstack((predictions[:5], actual_prices[:5])))"
   ]
  },
  {
   "cell_type": "markdown",
   "id": "ce8fc42c",
   "metadata": {},
   "source": [
    "## 9. Evaluate Model Performance"
   ]
  },
  {
   "cell_type": "code",
   "execution_count": null,
   "id": "c1385fb4",
   "metadata": {},
   "outputs": [],
   "source": [
    "rmse = np.sqrt(mean_squared_error(actual_prices, predictions))\n",
    "print(f'Root Mean Squared Error (RMSE): {rmse:.2f}')"
   ]
  },
  {
   "cell_type": "markdown",
   "id": "198f9122",
   "metadata": {},
   "source": [
    "## 10. Visualize Results"
   ]
  },
  {
   "cell_type": "code",
   "execution_count": null,
   "id": "8318774d",
   "metadata": {},
   "outputs": [],
   "source": [
    "train = close_prices[:training_data_len]\n",
    "valid = close_prices[training_data_len:]\n",
    "valid['Predictions'] = predictions\n",
    "plt.figure(figsize=(14,5))\n",
    "plt.plot(train.index, train['Close'], label='Training Data')\n",
    "plt.plot(valid.index, valid['Close'], label='Actual Prices')\n",
    "plt.plot(valid.index, valid['Predictions'], label='Predicted Prices')\n",
    "plt.title(f'{TICKER} Price Prediction')\n",
    "plt.xlabel('Date')\n",
    "plt.ylabel('Close Price USD ($)')\n",
    "plt.legend()\n",
    "plt.show()\n",
    "print('Displayed prediction results.')"
   ]
  },
  {
   "cell_type": "markdown",
   "id": "bfb7420b",
   "metadata": {},
   "source": [
    "## 11. Save the Model"
   ]
  },
  {
   "cell_type": "code",
   "execution_count": null,
   "id": "4d78f936",
   "metadata": {},
   "outputs": [],
   "source": [
    "model.save('stock_price_model.h5')\n",
    "print('Model saved to stock_price_model.h5')"
   ]
  },
  {
   "cell_type": "markdown",
   "id": "1050c804",
   "metadata": {},
   "source": [
    "## 12. Optional: Predict Future Prices"
   ]
  },
  {
   "cell_type": "code",
   "execution_count": null,
   "id": "147a696b",
   "metadata": {},
   "outputs": [],
   "source": [
    "future_predictions = []\n",
    "last_sequence = scaled_data[-LOOKBACK:]\n",
    "current_sequence = last_sequence.reshape(1, LOOKBACK, 1)\n",
    "for _ in range(30):\n",
    "    next_pred = model.predict(current_sequence)[0,0]\n",
    "    future_predictions.append(next_pred)\n",
    "    last_sequence = np.append(last_sequence, next_pred)[-LOOKBACK:]\n",
    "    current_sequence = last_sequence.reshape(1, LOOKBACK, 1)\n",
    "future_predictions = scaler.inverse_transform(np.array(future_predictions).reshape(-1,1))\n",
    "last_date = close_prices.index[-1]\n",
    "future_dates = pd.date_range(last_date + pd.Timedelta(days=1), periods=30)\n",
    "plt.figure(figsize=(14,5))\n",
    "plt.plot(close_prices.index, close_prices['Close'], label='Historical Prices')\n",
    "plt.plot(future_dates, future_predictions, label='30-Day Forecast')\n",
    "plt.title(f'{TICKER} Price Forecast')\n",
    "plt.xlabel('Date')\n",
    "plt.ylabel('Close Price USD ($)')\n",
    "plt.legend()\n",
    "plt.show()\n",
    "print('Displayed future price forecast.')"
   ]
  }
 ],
 "metadata": {},
 "nbformat": 4,
 "nbformat_minor": 5
}
